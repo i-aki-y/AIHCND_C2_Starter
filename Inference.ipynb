{
 "cells": [
  {
   "cell_type": "code",
   "execution_count": 3,
   "metadata": {},
   "outputs": [],
   "source": [
    "import numpy as np\n",
    "import pandas as pd\n",
    "import pydicom\n",
    "%matplotlib inline\n",
    "import matplotlib.pyplot as plt\n",
    "import keras \n",
    "\n",
    "from skimage.transform import resize\n",
    "import json"
   ]
  },
  {
   "cell_type": "code",
   "execution_count": 4,
   "metadata": {},
   "outputs": [],
   "source": [
    "# This function reads in a .dcm file, checks the important fields for our device, and returns a numpy array\n",
    "# of just the imaging data\n",
    "def check_dicom(filename): \n",
    "    # todo\n",
    "    print(f\"Load file {filename}\")\n",
    "\n",
    "    dcm = pydicom.dcmread(filename)    \n",
    "    \n",
    "    # print(dcm)\n",
    "    \n",
    "    headers = {\n",
    "        \"PatientID\":dcm.PatientID,\n",
    "        \"PatientAge\": dcm.PatientAge,\n",
    "        \"PatientSex\": dcm.PatientSex,\n",
    "        \"ImagingModality\": dcm.Modality,\n",
    "        \"PatientPosition\": dcm.PatientPosition,\n",
    "        \"BodyPartExamined\": dcm.BodyPartExamined,\n",
    "        \"TypeOfFinding\": dcm.StudyDescription,\n",
    "        \"RowNum\": dcm.Rows,\n",
    "        \"ColNum\": dcm.Columns,\n",
    "    }\n",
    "    \n",
    "    modality = headers[\"ImagingModality\"]\n",
    "    if modality != \"DX\":\n",
    "        print(f\"WARNING: Image modality should be 'Digital Radiography' (DX): {modality}\")\n",
    "        \n",
    "    body = headers[\"BodyPartExamined\"]    \n",
    "    if body != \"CHEST\":\n",
    "        print(f\"WARNING: Body Part Examined is not CHEST: {body}\")\n",
    "    \n",
    "    position = headers[\"PatientPosition\"] \n",
    "    if position not in [\"PA\", \"AP\"]:\n",
    "        print(f\"WARNING: The patient position should be 'PA' or 'AP' : {position}\")\n",
    "                \n",
    "    img = dcm.pixel_array\n",
    "    \n",
    "    return img\n",
    "    \n",
    "    \n",
    "# This function takes the numpy array output by check_dicom and \n",
    "# runs the appropriate pre-processing needed for our model input\n",
    "def preprocess_image(img,img_mean,img_std,img_size): \n",
    "\n",
    "    # todo\n",
    "    img_mean = img.mean()\n",
    "    proc_img=  resize((img - img_mean) / img_std, img_size)\n",
    "    \n",
    "    return proc_img\n",
    "\n",
    "# This function loads in our trained model w/ weights and compiles it \n",
    "def load_model(model_path, weight_path):\n",
    "    \n",
    "    with open(model_path, \"r\") as fp:\n",
    "        loaded_model_json = fp.read() \n",
    "        \n",
    "    model = keras.models.model_from_json(loaded_model_json)\n",
    "    model.load_weights(weight_path)\n",
    "    \n",
    "    return model\n",
    "\n",
    "# This function uses our device's threshold parameters to predict whether or not\n",
    "# the image shows the presence of pneumonia using our trained model\n",
    "def predict_image(model, img, thresh): \n",
    "    res = model.predict(img)\n",
    "    prediction = 1 if res > thresh else 0\n",
    "\n",
    "    return prediction "
   ]
  },
  {
   "cell_type": "code",
   "execution_count": 5,
   "metadata": {},
   "outputs": [
    {
     "name": "stdout",
     "output_type": "stream",
     "text": [
      "Load file test1.dcm\n"
     ]
    },
    {
     "data": {
      "text/plain": [
       "array([[199, 175, 152, ..., 252, 251, 251],\n",
       "       [150, 128, 114, ..., 243, 250, 252],\n",
       "       [122, 110, 102, ..., 193, 222, 239],\n",
       "       ...,\n",
       "       [ 44,  47,  51, ...,  16,  16,  13],\n",
       "       [ 44,  48,  52, ...,  16,  16,  14],\n",
       "       [ 45,  48,  53, ...,  17,  17,  15]], dtype=uint8)"
      ]
     },
     "execution_count": 5,
     "metadata": {},
     "output_type": "execute_result"
    }
   ],
   "source": [
    "check_dicom('test1.dcm')"
   ]
  },
  {
   "cell_type": "code",
   "execution_count": 6,
   "metadata": {
    "scrolled": false
   },
   "outputs": [
    {
     "name": "stdout",
     "output_type": "stream",
     "text": [
      "Load file test1.dcm\n",
      "0\n",
      "Load file test2.dcm\n",
      "0\n",
      "Load file test3.dcm\n",
      "0\n",
      "Load file test4.dcm\n",
      "WARNING: Body Part Examined is not CHEST: RIBCAGE\n",
      "0\n",
      "Load file test5.dcm\n",
      "WARNING: Image modality should be 'Digital Radiography' (DX): CT\n",
      "0\n",
      "Load file test6.dcm\n",
      "WARNING: The patient position should be 'PA' or 'AP' : XX\n",
      "0\n"
     ]
    }
   ],
   "source": [
    "test_dicoms = ['test1.dcm','test2.dcm','test3.dcm','test4.dcm','test5.dcm','test6.dcm']\n",
    "\n",
    "model_path = \"my_model.json\"\n",
    "weight_path = \"xray_class_my_model.best.hdf5\"\n",
    "\n",
    "IMG_SIZE=(1,224,224,3) # This might be different if you did not use vgg16\n",
    "img_mean = 0\n",
    "img_std = 255.0\n",
    "\n",
    "my_model = load_model(model_path, weight_path)\n",
    "thresh = 0.77\n",
    "\n",
    "# use the .dcm files to test your prediction\n",
    "for i in test_dicoms:\n",
    "    \n",
    "    img = np.array([])\n",
    "    img = check_dicom(i)\n",
    "    \n",
    "    if img is None:\n",
    "        continue\n",
    "        \n",
    "    img_proc = preprocess_image(img,img_mean,img_std,IMG_SIZE)\n",
    "    pred = predict_image(my_model,img_proc,thresh)\n",
    "    print(pred)"
   ]
  }
 ],
 "metadata": {
  "kernelspec": {
   "display_name": "Python 3",
   "language": "python",
   "name": "python3"
  },
  "language_info": {
   "codemirror_mode": {
    "name": "ipython",
    "version": 3
   },
   "file_extension": ".py",
   "mimetype": "text/x-python",
   "name": "python",
   "nbconvert_exporter": "python",
   "pygments_lexer": "ipython3",
   "version": "3.7.6"
  }
 },
 "nbformat": 4,
 "nbformat_minor": 2
}
